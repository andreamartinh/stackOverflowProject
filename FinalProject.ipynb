{
 "cells": [
  {
   "cell_type": "markdown",
   "metadata": {},
   "source": [
    "## 1) Import Libraries"
   ]
  },
  {
   "cell_type": "code",
   "execution_count": 33,
   "metadata": {},
   "outputs": [],
   "source": [
    "import os\n",
    "import numpy as np\n",
    "import pandas as pd\n",
    "from profanity import profanity \n",
    "from sklearn.model_selection import train_test_split\n",
    "from sklearn.preprocessing import StandardScaler\n",
    "from sklearn import model_selection\n",
    "from sklearn.metrics import classification_report\n",
    "from sklearn.metrics import accuracy_score\n",
    "from sklearn.linear_model import LogisticRegression\n",
    "from sklearn.tree import DecisionTreeClassifier\n",
    "from sklearn.neighbors import KNeighborsClassifier\n",
    "from sklearn.discriminant_analysis import LinearDiscriminantAnalysis\n",
    "from sklearn.naive_bayes import GaussianNB\n",
    "from sklearn.neural_network import MLPClassifier\n",
    "from sklearn.svm import SVC"
   ]
  },
  {
   "cell_type": "markdown",
   "metadata": {},
   "source": [
    "## 2) Import Data Set"
   ]
  },
  {
   "cell_type": "code",
   "execution_count": 34,
   "metadata": {},
   "outputs": [],
   "source": [
    "df = pd.read_csv('data_set2.csv')"
   ]
  },
  {
   "cell_type": "code",
   "execution_count": 35,
   "metadata": {},
   "outputs": [
    {
     "data": {
      "text/plain": [
       "(800, 20)"
      ]
     },
     "execution_count": 35,
     "metadata": {},
     "output_type": "execute_result"
    }
   ],
   "source": [
    "df.shape"
   ]
  },
  {
   "cell_type": "code",
   "execution_count": 36,
   "metadata": {},
   "outputs": [
    {
     "data": {
      "text/html": [
       "<div>\n",
       "<style>\n",
       "    .dataframe thead tr:only-child th {\n",
       "        text-align: right;\n",
       "    }\n",
       "\n",
       "    .dataframe thead th {\n",
       "        text-align: left;\n",
       "    }\n",
       "\n",
       "    .dataframe tbody tr th {\n",
       "        vertical-align: top;\n",
       "    }\n",
       "</style>\n",
       "<table border=\"1\" class=\"dataframe\">\n",
       "  <thead>\n",
       "    <tr style=\"text-align: right;\">\n",
       "      <th></th>\n",
       "      <th>Id</th>\n",
       "      <th>Title</th>\n",
       "      <th>Text</th>\n",
       "      <th>Comment</th>\n",
       "      <th>Tags</th>\n",
       "      <th>PostTypeId</th>\n",
       "      <th>LastEditDate</th>\n",
       "      <th>Title.1</th>\n",
       "      <th>Tags.1</th>\n",
       "      <th>Reputation</th>\n",
       "      <th>CreationDate</th>\n",
       "      <th>Views</th>\n",
       "      <th>UpVotes</th>\n",
       "      <th>DownVotes</th>\n",
       "      <th>WebsiteUrl</th>\n",
       "      <th>Location</th>\n",
       "      <th>AboutMe</th>\n",
       "      <th>DisplayName</th>\n",
       "      <th>ApprovalDate</th>\n",
       "      <th>RejectionDate</th>\n",
       "    </tr>\n",
       "  </thead>\n",
       "  <tbody>\n",
       "    <tr>\n",
       "      <th>0</th>\n",
       "      <td>666146</td>\n",
       "      <td>NaN</td>\n",
       "      <td>How can I display an image or text whenever I ...</td>\n",
       "      <td>Grammar, condensed text</td>\n",
       "      <td>NaN</td>\n",
       "      <td>1</td>\n",
       "      <td>4/8/13 13:39</td>\n",
       "      <td>CSS tricky hover effect</td>\n",
       "      <td>&lt;javascript&gt;&lt;css&gt;</td>\n",
       "      <td>8374</td>\n",
       "      <td>8/17/11 17:20</td>\n",
       "      <td>2662</td>\n",
       "      <td>2491</td>\n",
       "      <td>855</td>\n",
       "      <td>http://chrisforrence.com</td>\n",
       "      <td>Atlanta, GA, United States</td>\n",
       "      <td>&lt;h2&gt;Howdy!&lt;/h2&gt;\\n\\n&lt;p&gt;I'm a software engineer ...</td>\n",
       "      <td>Chris Forrence</td>\n",
       "      <td>4/8/13 13:39</td>\n",
       "      <td>NaN</td>\n",
       "    </tr>\n",
       "    <tr>\n",
       "      <th>1</th>\n",
       "      <td>2752683</td>\n",
       "      <td>\"internal_metadta error\" when using Blockchain...</td>\n",
       "      <td>We are using Blockchain as a service on a Blue...</td>\n",
       "      <td>I made some minor edits to grammar and spelling.</td>\n",
       "      <td>NaN</td>\n",
       "      <td>1</td>\n",
       "      <td>5/23/17 10:27</td>\n",
       "      <td>\"internal_metadta error\" when using Blockchain...</td>\n",
       "      <td>&lt;ibm-cloud&gt;&lt;blockchain&gt;&lt;hyperledger&gt;</td>\n",
       "      <td>1709</td>\n",
       "      <td>1/15/14 15:53</td>\n",
       "      <td>533</td>\n",
       "      <td>52</td>\n",
       "      <td>19</td>\n",
       "      <td>NaN</td>\n",
       "      <td>Austin, TX</td>\n",
       "      <td>&lt;p&gt;I am a Knowledge Manager for IBM Cloud plat...</td>\n",
       "      <td>William 'Bill' Wentworth</td>\n",
       "      <td>10/3/16 21:40</td>\n",
       "      <td>NaN</td>\n",
       "    </tr>\n",
       "    <tr>\n",
       "      <th>2</th>\n",
       "      <td>675850</td>\n",
       "      <td>NaN</td>\n",
       "      <td>I working on a `GIS` application which uses `P...</td>\n",
       "      <td>Formatting some texts</td>\n",
       "      <td>NaN</td>\n",
       "      <td>1</td>\n",
       "      <td>4/15/13 12:05</td>\n",
       "      <td>How to set InsertCommand parameter as function...</td>\n",
       "      <td>&lt;c#&gt;&lt;postgresql&gt;&lt;ado.net&gt;&lt;postgis&gt;&lt;dataadapter&gt;</td>\n",
       "      <td>748</td>\n",
       "      <td>5/16/12 10:48</td>\n",
       "      <td>233</td>\n",
       "      <td>377</td>\n",
       "      <td>55</td>\n",
       "      <td>NaN</td>\n",
       "      <td>NaN</td>\n",
       "      <td>NaN</td>\n",
       "      <td>Futuregeek</td>\n",
       "      <td>4/15/13 9:14</td>\n",
       "      <td>NaN</td>\n",
       "    </tr>\n",
       "    <tr>\n",
       "      <th>3</th>\n",
       "      <td>2675420</td>\n",
       "      <td>NaN</td>\n",
       "      <td>I have a war file with the below structure.\\r\\...</td>\n",
       "      <td>added missing characters</td>\n",
       "      <td>NaN</td>\n",
       "      <td>1</td>\n",
       "      <td>8/18/16 13:06</td>\n",
       "      <td>Issue while reading a file from WAR file</td>\n",
       "      <td>&lt;java&gt;</td>\n",
       "      <td>1211</td>\n",
       "      <td>8/15/12 19:52</td>\n",
       "      <td>110</td>\n",
       "      <td>27</td>\n",
       "      <td>4</td>\n",
       "      <td>NaN</td>\n",
       "      <td>NaN</td>\n",
       "      <td>NaN</td>\n",
       "      <td>Ömer Erden</td>\n",
       "      <td>8/18/16 13:06</td>\n",
       "      <td>NaN</td>\n",
       "    </tr>\n",
       "    <tr>\n",
       "      <th>4</th>\n",
       "      <td>817177</td>\n",
       "      <td>NaN</td>\n",
       "      <td>My code has generated the search string `veri_...</td>\n",
       "      <td>Fixed formatting and broken English</td>\n",
       "      <td>NaN</td>\n",
       "      <td>1</td>\n",
       "      <td>7/22/13 20:14</td>\n",
       "      <td>How to break this while loop in apache poi get...</td>\n",
       "      <td>&lt;java&gt;&lt;while-loop&gt;&lt;apache-poi&gt;</td>\n",
       "      <td>3292</td>\n",
       "      <td>6/18/12 17:57</td>\n",
       "      <td>1012</td>\n",
       "      <td>5738</td>\n",
       "      <td>248</td>\n",
       "      <td>NaN</td>\n",
       "      <td>4444</td>\n",
       "      <td>&lt;p&gt;&lt;a href=\"http://stackoverflow.com/users/146...</td>\n",
       "      <td>4444</td>\n",
       "      <td>7/22/13 18:31</td>\n",
       "      <td>NaN</td>\n",
       "    </tr>\n",
       "  </tbody>\n",
       "</table>\n",
       "</div>"
      ],
      "text/plain": [
       "        Id                                              Title  \\\n",
       "0   666146                                                NaN   \n",
       "1  2752683  \"internal_metadta error\" when using Blockchain...   \n",
       "2   675850                                                NaN   \n",
       "3  2675420                                                NaN   \n",
       "4   817177                                                NaN   \n",
       "\n",
       "                                                Text  \\\n",
       "0  How can I display an image or text whenever I ...   \n",
       "1  We are using Blockchain as a service on a Blue...   \n",
       "2  I working on a `GIS` application which uses `P...   \n",
       "3  I have a war file with the below structure.\\r\\...   \n",
       "4  My code has generated the search string `veri_...   \n",
       "\n",
       "                                            Comment Tags  PostTypeId  \\\n",
       "0                           Grammar, condensed text  NaN           1   \n",
       "1  I made some minor edits to grammar and spelling.  NaN           1   \n",
       "2                             Formatting some texts  NaN           1   \n",
       "3                          added missing characters  NaN           1   \n",
       "4               Fixed formatting and broken English  NaN           1   \n",
       "\n",
       "    LastEditDate                                            Title.1  \\\n",
       "0   4/8/13 13:39                            CSS tricky hover effect   \n",
       "1  5/23/17 10:27  \"internal_metadta error\" when using Blockchain...   \n",
       "2  4/15/13 12:05  How to set InsertCommand parameter as function...   \n",
       "3  8/18/16 13:06           Issue while reading a file from WAR file   \n",
       "4  7/22/13 20:14  How to break this while loop in apache poi get...   \n",
       "\n",
       "                                            Tags.1  Reputation   CreationDate  \\\n",
       "0                                <javascript><css>        8374  8/17/11 17:20   \n",
       "1             <ibm-cloud><blockchain><hyperledger>        1709  1/15/14 15:53   \n",
       "2  <c#><postgresql><ado.net><postgis><dataadapter>         748  5/16/12 10:48   \n",
       "3                                           <java>        1211  8/15/12 19:52   \n",
       "4                   <java><while-loop><apache-poi>        3292  6/18/12 17:57   \n",
       "\n",
       "   Views  UpVotes  DownVotes                WebsiteUrl  \\\n",
       "0   2662     2491        855  http://chrisforrence.com   \n",
       "1    533       52         19                       NaN   \n",
       "2    233      377         55                       NaN   \n",
       "3    110       27          4                       NaN   \n",
       "4   1012     5738        248                       NaN   \n",
       "\n",
       "                     Location  \\\n",
       "0  Atlanta, GA, United States   \n",
       "1                  Austin, TX   \n",
       "2                         NaN   \n",
       "3                         NaN   \n",
       "4                        4444   \n",
       "\n",
       "                                             AboutMe  \\\n",
       "0  <h2>Howdy!</h2>\\n\\n<p>I'm a software engineer ...   \n",
       "1  <p>I am a Knowledge Manager for IBM Cloud plat...   \n",
       "2                                                NaN   \n",
       "3                                                NaN   \n",
       "4  <p><a href=\"http://stackoverflow.com/users/146...   \n",
       "\n",
       "                DisplayName   ApprovalDate  RejectionDate  \n",
       "0            Chris Forrence   4/8/13 13:39            NaN  \n",
       "1  William 'Bill' Wentworth  10/3/16 21:40            NaN  \n",
       "2                Futuregeek   4/15/13 9:14            NaN  \n",
       "3                Ömer Erden  8/18/16 13:06            NaN  \n",
       "4                      4444  7/22/13 18:31            NaN  "
      ]
     },
     "execution_count": 36,
     "metadata": {},
     "output_type": "execute_result"
    }
   ],
   "source": [
    "df.head()"
   ]
  },
  {
   "cell_type": "markdown",
   "metadata": {},
   "source": [
    "## 3)Data Preparation"
   ]
  },
  {
   "cell_type": "markdown",
   "metadata": {},
   "source": [
    "### - Cleaning some features:"
   ]
  },
  {
   "cell_type": "code",
   "execution_count": 37,
   "metadata": {},
   "outputs": [],
   "source": [
    "##Comments' Features:\n",
    "\n",
    "#There are two types of posts that can be edited\n",
    "# I use 0 for Editing a question\n",
    "# I use 1 for editing an answer\n",
    "df.loc[df['PostTypeId'] == 1, 'PostTypeId'] = 0\n",
    "df.loc[df['PostTypeId'] == 2, 'PostTypeId'] = 1\n",
    "\n",
    "#Checks if the post was edited before\n",
    "df['LastEditDate']=df['LastEditDate'].fillna(0)\n",
    "df.loc[df['LastEditDate'] != 0, 'LastEditDate'] = 1\n",
    "\n",
    "#Comments Length\n",
    "df['CommentLength'] = df['Comment'].apply(len)\n",
    "\n",
    "#Check if the title of the post was edited\n",
    "df[\"TitleChange1\"] = df['Title'].fillna('False')\n",
    "df.loc[df['TitleChange1'] != 'False', 'TitleChange1'] = 'True'\n",
    "\n",
    "df.loc[df['Title'] == df['Title.1'], \"TitleChange2\"] = 'True'\n",
    "df.loc[df['Title'] != df['Title.1'], \"TitleChange2\"] = 'False'\n",
    "\n",
    "df.loc[df['TitleChange1'] == 'False', \"TitleChange1\"] = 0\n",
    "df.loc[df['TitleChange1'] == 'True', \"TitleChange1\"] = 1\n",
    "\n",
    "df.loc[df['TitleChange2'] == 'False', \"TitleChange2\"] = 0\n",
    "df.loc[df['TitleChange2'] == 'True', \"TitleChange2\"] = 1\n",
    "\n",
    "df['TitleChange'] = df['TitleChange1']^df['TitleChange2']\n",
    "\n",
    "# check for profanity in the comments and the editions\n",
    "df['CommentProfanity'] = df['Comment'].apply(lambda x: profanity.contains_profanity(x))\n",
    "df['Text']=df['Text'].fillna('0')\n",
    "df['TextProfanity'] = df['Text'].apply(lambda x: profanity.contains_profanity(x))"
   ]
  },
  {
   "cell_type": "code",
   "execution_count": 38,
   "metadata": {},
   "outputs": [],
   "source": [
    "#Check if the tags of the post were edited\n",
    "df['Tags.1'] = df['Tags.1'].map(lambda x: str(x).lstrip('<').rstrip('>'))\n",
    "df['Tags.1'] = df['Tags.1'].str.replace('><', ' ')\n",
    "\n",
    "#Check if the title of the post was edited\n",
    "df[\"TagChange1\"] = df['Tags'].fillna('False')\n",
    "df.loc[df[\"TagChange1\"] != 'False', \"TagChange1\"] = 'True'\n",
    "\n",
    "df.loc[df['Tags'] == df['Tags.1'], \"TagChange2\"] = 'True'\n",
    "df.loc[df['Tags'] != df['Tags.1'], \"TagChange2\"] = 'False'\n",
    "\n",
    "df.loc[df[\"TagChange1\"] == 'False', \"TagChange1\"] = 0\n",
    "df.loc[df[\"TagChange1\"] == 'True', \"TagChange1\"] = 1\n",
    "\n",
    "df.loc[df[\"TagChange2\"] == 'False', \"TagChange2\"] = 0\n",
    "df.loc[df[\"TagChange2\"] == 'True', \"TagChange2\"] = 1\n",
    "\n",
    "df['TagChange'] = df[\"TagChange1\"]^df[\"TagChange2\"]"
   ]
  },
  {
   "cell_type": "code",
   "execution_count": 39,
   "metadata": {},
   "outputs": [],
   "source": [
    "##User's Features\n",
    "\n",
    "#The user has a WebstieURL\n",
    "df['WebsiteUrl']=df['WebsiteUrl'].fillna(0)\n",
    "df.loc[df['WebsiteUrl'] != 0, 'WebsiteUrl'] = 1\n",
    "\n",
    "#The user stated a Location\n",
    "df['WebsiteUrl']=df['WebsiteUrl'].fillna(0)\n",
    "df.loc[df['Location'] != 0, 'Location'] = 1\n",
    "\n",
    "#the user wrote an AboutMe\n",
    "df['AboutMe']=df['AboutMe'].fillna(0)\n",
    "df.loc[df['AboutMe'] != 0, 'AboutMe'] = 1"
   ]
  },
  {
   "cell_type": "code",
   "execution_count": 40,
   "metadata": {},
   "outputs": [],
   "source": [
    "## Output\n",
    "#output 0 notApprove, 1 approve\n",
    "df['Y'] = df['ApprovalDate'].fillna(0)\n",
    "df.loc[df['Y'] != 0, 'Y'] = 1"
   ]
  },
  {
   "cell_type": "code",
   "execution_count": null,
   "metadata": {},
   "outputs": [],
   "source": []
  },
  {
   "cell_type": "markdown",
   "metadata": {},
   "source": [
    "### - Organizing the data in a new dataframe"
   ]
  },
  {
   "cell_type": "code",
   "execution_count": 41,
   "metadata": {},
   "outputs": [],
   "source": [
    "data = pd.DataFrame()"
   ]
  },
  {
   "cell_type": "code",
   "execution_count": 42,
   "metadata": {},
   "outputs": [],
   "source": [
    "##Comments' Features:\n",
    "#Qestion 0, answer 1\n",
    "data['PostType']= df['PostTypeId']\n",
    "# Not Edited before 0, Edited before 1\n",
    "data['Edited']= df['LastEditDate']\n",
    "#length of comment\n",
    "data['LenComment']= np.log(df['CommentLength']+1)\n",
    "#Title Change\n",
    "data['TitleChange'] = 'Nan'\n",
    "data.loc[df['TitleChange'] == True, 'TitleChange'] = 1\n",
    "data.loc[df['TitleChange'] == False, 'TitleChange'] = 0\n",
    "#Tag Change\n",
    "data['TagChange'] = 'Nan'\n",
    "data.loc[df['TagChange'] == True, 'TagChange'] = 1\n",
    "data.loc[df['TagChange'] == False, 'TagChange'] = 0\n",
    "#CommentProfanity\n",
    "data['ComProf'] = 'Nan'\n",
    "data.loc[df['CommentProfanity'] == True, 'ComProf'] = 1\n",
    "data.loc[df['CommentProfanity'] == False, 'ComProf'] = 0\n",
    "#TextProfanity\n",
    "data['TxtProf'] = 'Nan'\n",
    "data.loc[df['TextProfanity'] == True, 'TxtProf'] = 1\n",
    "data.loc[df['TextProfanity'] == False, 'TxtProf'] = 0"
   ]
  },
  {
   "cell_type": "code",
   "execution_count": 43,
   "metadata": {},
   "outputs": [],
   "source": [
    "##User's Features\n",
    "\n",
    "#Total Reputation\n",
    "data['Reputation']= np.log(df['Reputation']+1)\n",
    "#totalUpvotes\n",
    "data['UpVotes']= np.log(df['UpVotes']+1)\n",
    "#totalDownVotes\n",
    "data['DownVotes']= np.log(df['DownVotes']+1)\n",
    "#Completion of profile 0 nothing 3 all complete\n",
    "data['ProfileCompletion'] = df['Location'] + df['AboutMe'] + df['WebsiteUrl']"
   ]
  },
  {
   "cell_type": "code",
   "execution_count": 44,
   "metadata": {},
   "outputs": [],
   "source": [
    "#output\n",
    "data['Output'] = df['Y']"
   ]
  },
  {
   "cell_type": "code",
   "execution_count": 45,
   "metadata": {},
   "outputs": [
    {
     "data": {
      "text/plain": [
       "(800, 12)"
      ]
     },
     "execution_count": 45,
     "metadata": {},
     "output_type": "execute_result"
    }
   ],
   "source": [
    "data.shape"
   ]
  },
  {
   "cell_type": "code",
   "execution_count": 46,
   "metadata": {},
   "outputs": [
    {
     "data": {
      "text/html": [
       "<div>\n",
       "<style>\n",
       "    .dataframe thead tr:only-child th {\n",
       "        text-align: right;\n",
       "    }\n",
       "\n",
       "    .dataframe thead th {\n",
       "        text-align: left;\n",
       "    }\n",
       "\n",
       "    .dataframe tbody tr th {\n",
       "        vertical-align: top;\n",
       "    }\n",
       "</style>\n",
       "<table border=\"1\" class=\"dataframe\">\n",
       "  <thead>\n",
       "    <tr style=\"text-align: right;\">\n",
       "      <th></th>\n",
       "      <th>PostType</th>\n",
       "      <th>Edited</th>\n",
       "      <th>LenComment</th>\n",
       "      <th>TitleChange</th>\n",
       "      <th>TagChange</th>\n",
       "      <th>ComProf</th>\n",
       "      <th>TxtProf</th>\n",
       "      <th>Reputation</th>\n",
       "      <th>UpVotes</th>\n",
       "      <th>DownVotes</th>\n",
       "      <th>ProfileCompletion</th>\n",
       "      <th>Output</th>\n",
       "    </tr>\n",
       "  </thead>\n",
       "  <tbody>\n",
       "    <tr>\n",
       "      <th>0</th>\n",
       "      <td>0</td>\n",
       "      <td>1</td>\n",
       "      <td>3.178054</td>\n",
       "      <td>0</td>\n",
       "      <td>0</td>\n",
       "      <td>0</td>\n",
       "      <td>0</td>\n",
       "      <td>9.033006</td>\n",
       "      <td>7.820841</td>\n",
       "      <td>6.752270</td>\n",
       "      <td>3</td>\n",
       "      <td>1</td>\n",
       "    </tr>\n",
       "    <tr>\n",
       "      <th>1</th>\n",
       "      <td>0</td>\n",
       "      <td>1</td>\n",
       "      <td>3.891820</td>\n",
       "      <td>0</td>\n",
       "      <td>0</td>\n",
       "      <td>0</td>\n",
       "      <td>0</td>\n",
       "      <td>7.444249</td>\n",
       "      <td>3.970292</td>\n",
       "      <td>2.995732</td>\n",
       "      <td>2</td>\n",
       "      <td>1</td>\n",
       "    </tr>\n",
       "    <tr>\n",
       "      <th>2</th>\n",
       "      <td>0</td>\n",
       "      <td>1</td>\n",
       "      <td>3.091042</td>\n",
       "      <td>0</td>\n",
       "      <td>0</td>\n",
       "      <td>0</td>\n",
       "      <td>0</td>\n",
       "      <td>6.618739</td>\n",
       "      <td>5.934894</td>\n",
       "      <td>4.025352</td>\n",
       "      <td>1</td>\n",
       "      <td>1</td>\n",
       "    </tr>\n",
       "    <tr>\n",
       "      <th>3</th>\n",
       "      <td>0</td>\n",
       "      <td>1</td>\n",
       "      <td>3.218876</td>\n",
       "      <td>0</td>\n",
       "      <td>0</td>\n",
       "      <td>0</td>\n",
       "      <td>0</td>\n",
       "      <td>7.100027</td>\n",
       "      <td>3.332205</td>\n",
       "      <td>1.609438</td>\n",
       "      <td>1</td>\n",
       "      <td>1</td>\n",
       "    </tr>\n",
       "    <tr>\n",
       "      <th>4</th>\n",
       "      <td>0</td>\n",
       "      <td>1</td>\n",
       "      <td>3.583519</td>\n",
       "      <td>0</td>\n",
       "      <td>0</td>\n",
       "      <td>0</td>\n",
       "      <td>0</td>\n",
       "      <td>8.099554</td>\n",
       "      <td>8.655040</td>\n",
       "      <td>5.517453</td>\n",
       "      <td>2</td>\n",
       "      <td>1</td>\n",
       "    </tr>\n",
       "  </tbody>\n",
       "</table>\n",
       "</div>"
      ],
      "text/plain": [
       "   PostType Edited  LenComment TitleChange TagChange ComProf TxtProf  \\\n",
       "0         0      1    3.178054           0         0       0       0   \n",
       "1         0      1    3.891820           0         0       0       0   \n",
       "2         0      1    3.091042           0         0       0       0   \n",
       "3         0      1    3.218876           0         0       0       0   \n",
       "4         0      1    3.583519           0         0       0       0   \n",
       "\n",
       "   Reputation   UpVotes  DownVotes ProfileCompletion Output  \n",
       "0    9.033006  7.820841   6.752270                 3      1  \n",
       "1    7.444249  3.970292   2.995732                 2      1  \n",
       "2    6.618739  5.934894   4.025352                 1      1  \n",
       "3    7.100027  3.332205   1.609438                 1      1  \n",
       "4    8.099554  8.655040   5.517453                 2      1  "
      ]
     },
     "execution_count": 46,
     "metadata": {},
     "output_type": "execute_result"
    }
   ],
   "source": [
    "data.head()"
   ]
  },
  {
   "cell_type": "markdown",
   "metadata": {},
   "source": [
    "## 4)  Make a test/train split of the data"
   ]
  },
  {
   "cell_type": "code",
   "execution_count": 47,
   "metadata": {},
   "outputs": [],
   "source": [
    "X = data.drop('Output',axis=1)\n",
    "Y = data['Output']"
   ]
  },
  {
   "cell_type": "code",
   "execution_count": 48,
   "metadata": {},
   "outputs": [],
   "source": [
    "seed = 7\n",
    "X_train, X_test, Y_train, Y_test = train_test_split(X, Y,test_size=0.30, random_state=seed)\n",
    "Y_train=Y_train.astype('int')\n",
    "Y_test=Y_test.astype('int')"
   ]
  },
  {
   "cell_type": "markdown",
   "metadata": {},
   "source": [
    "## 5) Normalise data"
   ]
  },
  {
   "cell_type": "code",
   "execution_count": 49,
   "metadata": {},
   "outputs": [],
   "source": [
    "scaler = StandardScaler()\n",
    "scaler.fit(X_train)\n",
    "X_train = scaler.transform(X_train)\n",
    "X_test = scaler.transform(X_test)"
   ]
  },
  {
   "cell_type": "markdown",
   "metadata": {},
   "source": [
    "## 6) Testing ML Algorithm"
   ]
  },
  {
   "cell_type": "code",
   "execution_count": null,
   "metadata": {},
   "outputs": [],
   "source": []
  },
  {
   "cell_type": "code",
   "execution_count": null,
   "metadata": {},
   "outputs": [],
   "source": []
  },
  {
   "cell_type": "markdown",
   "metadata": {},
   "source": [
    "### Classification Reports"
   ]
  },
  {
   "cell_type": "code",
   "execution_count": 50,
   "metadata": {},
   "outputs": [],
   "source": [
    "from sklearn.metrics import classification_report"
   ]
  },
  {
   "cell_type": "markdown",
   "metadata": {},
   "source": [
    "#### a) Logistic Regression:"
   ]
  },
  {
   "cell_type": "code",
   "execution_count": 28,
   "metadata": {},
   "outputs": [
    {
     "name": "stdout",
     "output_type": "stream",
     "text": [
      "             precision    recall  f1-score   support\n",
      "\n",
      "          0       0.82      0.61      0.70       129\n",
      "          1       0.65      0.85      0.74       111\n",
      "\n",
      "avg / total       0.74      0.72      0.72       240\n",
      "\n"
     ]
    }
   ],
   "source": [
    "logistic = LogisticRegression()\n",
    "logistic.fit(X_train, Y_train)\n",
    "prediction = logistic.predict(X_test)\n",
    "print(classification_report(Y_test, prediction ))"
   ]
  },
  {
   "cell_type": "markdown",
   "metadata": {},
   "source": [
    "#### b) Support Vector Machine:"
   ]
  },
  {
   "cell_type": "code",
   "execution_count": 29,
   "metadata": {},
   "outputs": [
    {
     "name": "stdout",
     "output_type": "stream",
     "text": [
      "             precision    recall  f1-score   support\n",
      "\n",
      "          0       0.87      0.58      0.70       129\n",
      "          1       0.65      0.90      0.75       111\n",
      "\n",
      "avg / total       0.77      0.73      0.72       240\n",
      "\n"
     ]
    }
   ],
   "source": [
    "svm = SVC()\n",
    "svm.fit(X_train, Y_train)\n",
    "prediction = svm.predict(X_test)\n",
    "print(classification_report(Y_test, prediction ))"
   ]
  },
  {
   "cell_type": "markdown",
   "metadata": {},
   "source": [
    "#### c) Multi-layer Perceptron:"
   ]
  },
  {
   "cell_type": "code",
   "execution_count": 32,
   "metadata": {},
   "outputs": [
    {
     "name": "stdout",
     "output_type": "stream",
     "text": [
      "             precision    recall  f1-score   support\n",
      "\n",
      "          0       0.86      0.61      0.71       129\n",
      "          1       0.66      0.88      0.76       111\n",
      "\n",
      "avg / total       0.77      0.74      0.73       240\n",
      "\n"
     ]
    }
   ],
   "source": [
    "mlp = MLPClassifier(alpha=10,hidden_layer_sizes=(40,40,40,40),max_iter=1000)\n",
    "mlp.fit(X_train, Y_train)\n",
    "prediction = mlp.predict(X_test)\n",
    "print(classification_report(Y_test, prediction ))"
   ]
  },
  {
   "cell_type": "code",
   "execution_count": null,
   "metadata": {},
   "outputs": [],
   "source": []
  },
  {
   "cell_type": "code",
   "execution_count": null,
   "metadata": {},
   "outputs": [],
   "source": []
  },
  {
   "cell_type": "code",
   "execution_count": null,
   "metadata": {},
   "outputs": [],
   "source": []
  },
  {
   "cell_type": "code",
   "execution_count": null,
   "metadata": {},
   "outputs": [],
   "source": []
  }
 ],
 "metadata": {
  "kernelspec": {
   "display_name": "Python 3",
   "language": "python",
   "name": "python3"
  },
  "language_info": {
   "codemirror_mode": {
    "name": "ipython",
    "version": 3
   },
   "file_extension": ".py",
   "mimetype": "text/x-python",
   "name": "python",
   "nbconvert_exporter": "python",
   "pygments_lexer": "ipython3",
   "version": "3.6.3"
  }
 },
 "nbformat": 4,
 "nbformat_minor": 2
}

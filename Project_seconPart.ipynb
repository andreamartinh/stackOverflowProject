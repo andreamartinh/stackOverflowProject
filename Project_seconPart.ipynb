{
 "cells": [
  {
   "cell_type": "markdown",
   "metadata": {},
   "source": [
    "## 1) Import Libraries"
   ]
  },
  {
   "cell_type": "code",
   "execution_count": 67,
   "metadata": {},
   "outputs": [],
   "source": [
    "import os\n",
    "import numpy as np\n",
    "import pandas as pd\n",
    "from profanity import profanity \n",
    "from sklearn.model_selection import train_test_split\n",
    "from sklearn.preprocessing import StandardScaler\n",
    "from sklearn import model_selection\n",
    "from sklearn.metrics import classification_report\n",
    "from sklearn.metrics import accuracy_score\n",
    "from sklearn.linear_model import LogisticRegression\n",
    "from sklearn.tree import DecisionTreeClassifier\n",
    "from sklearn.neighbors import KNeighborsClassifier\n",
    "from sklearn.discriminant_analysis import LinearDiscriminantAnalysis\n",
    "from sklearn.naive_bayes import GaussianNB\n",
    "from sklearn.neural_network import MLPClassifier\n",
    "from sklearn.svm import SVC"
   ]
  },
  {
   "cell_type": "markdown",
   "metadata": {},
   "source": [
    "## 2) Import Data Set"
   ]
  },
  {
   "cell_type": "code",
   "execution_count": 68,
   "metadata": {},
   "outputs": [],
   "source": [
    "df = pd.read_csv('data_set2.csv')"
   ]
  },
  {
   "cell_type": "code",
   "execution_count": 69,
   "metadata": {},
   "outputs": [
    {
     "data": {
      "text/plain": [
       "(800, 20)"
      ]
     },
     "execution_count": 69,
     "metadata": {},
     "output_type": "execute_result"
    }
   ],
   "source": [
    "df.shape"
   ]
  },
  {
   "cell_type": "code",
   "execution_count": 70,
   "metadata": {},
   "outputs": [
    {
     "data": {
      "text/html": [
       "<div>\n",
       "<style>\n",
       "    .dataframe thead tr:only-child th {\n",
       "        text-align: right;\n",
       "    }\n",
       "\n",
       "    .dataframe thead th {\n",
       "        text-align: left;\n",
       "    }\n",
       "\n",
       "    .dataframe tbody tr th {\n",
       "        vertical-align: top;\n",
       "    }\n",
       "</style>\n",
       "<table border=\"1\" class=\"dataframe\">\n",
       "  <thead>\n",
       "    <tr style=\"text-align: right;\">\n",
       "      <th></th>\n",
       "      <th>Id</th>\n",
       "      <th>Title</th>\n",
       "      <th>Text</th>\n",
       "      <th>Comment</th>\n",
       "      <th>Tags</th>\n",
       "      <th>PostTypeId</th>\n",
       "      <th>LastEditDate</th>\n",
       "      <th>Title.1</th>\n",
       "      <th>Tags.1</th>\n",
       "      <th>Reputation</th>\n",
       "      <th>CreationDate</th>\n",
       "      <th>Views</th>\n",
       "      <th>UpVotes</th>\n",
       "      <th>DownVotes</th>\n",
       "      <th>WebsiteUrl</th>\n",
       "      <th>Location</th>\n",
       "      <th>AboutMe</th>\n",
       "      <th>DisplayName</th>\n",
       "      <th>ApprovalDate</th>\n",
       "      <th>RejectionDate</th>\n",
       "    </tr>\n",
       "  </thead>\n",
       "  <tbody>\n",
       "    <tr>\n",
       "      <th>0</th>\n",
       "      <td>666146</td>\n",
       "      <td>NaN</td>\n",
       "      <td>How can I display an image or text whenever I ...</td>\n",
       "      <td>Grammar, condensed text</td>\n",
       "      <td>NaN</td>\n",
       "      <td>1</td>\n",
       "      <td>4/8/13 13:39</td>\n",
       "      <td>CSS tricky hover effect</td>\n",
       "      <td>&lt;javascript&gt;&lt;css&gt;</td>\n",
       "      <td>8374</td>\n",
       "      <td>8/17/11 17:20</td>\n",
       "      <td>2662</td>\n",
       "      <td>2491</td>\n",
       "      <td>855</td>\n",
       "      <td>http://chrisforrence.com</td>\n",
       "      <td>Atlanta, GA, United States</td>\n",
       "      <td>&lt;h2&gt;Howdy!&lt;/h2&gt;\\n\\n&lt;p&gt;I'm a software engineer ...</td>\n",
       "      <td>Chris Forrence</td>\n",
       "      <td>4/8/13 13:39</td>\n",
       "      <td>NaN</td>\n",
       "    </tr>\n",
       "    <tr>\n",
       "      <th>1</th>\n",
       "      <td>2752683</td>\n",
       "      <td>\"internal_metadta error\" when using Blockchain...</td>\n",
       "      <td>We are using Blockchain as a service on a Blue...</td>\n",
       "      <td>I made some minor edits to grammar and spelling.</td>\n",
       "      <td>NaN</td>\n",
       "      <td>1</td>\n",
       "      <td>5/23/17 10:27</td>\n",
       "      <td>\"internal_metadta error\" when using Blockchain...</td>\n",
       "      <td>&lt;ibm-cloud&gt;&lt;blockchain&gt;&lt;hyperledger&gt;</td>\n",
       "      <td>1709</td>\n",
       "      <td>1/15/14 15:53</td>\n",
       "      <td>533</td>\n",
       "      <td>52</td>\n",
       "      <td>19</td>\n",
       "      <td>NaN</td>\n",
       "      <td>Austin, TX</td>\n",
       "      <td>&lt;p&gt;I am a Knowledge Manager for IBM Cloud plat...</td>\n",
       "      <td>William 'Bill' Wentworth</td>\n",
       "      <td>10/3/16 21:40</td>\n",
       "      <td>NaN</td>\n",
       "    </tr>\n",
       "    <tr>\n",
       "      <th>2</th>\n",
       "      <td>675850</td>\n",
       "      <td>NaN</td>\n",
       "      <td>I working on a `GIS` application which uses `P...</td>\n",
       "      <td>Formatting some texts</td>\n",
       "      <td>NaN</td>\n",
       "      <td>1</td>\n",
       "      <td>4/15/13 12:05</td>\n",
       "      <td>How to set InsertCommand parameter as function...</td>\n",
       "      <td>&lt;c#&gt;&lt;postgresql&gt;&lt;ado.net&gt;&lt;postgis&gt;&lt;dataadapter&gt;</td>\n",
       "      <td>748</td>\n",
       "      <td>5/16/12 10:48</td>\n",
       "      <td>233</td>\n",
       "      <td>377</td>\n",
       "      <td>55</td>\n",
       "      <td>NaN</td>\n",
       "      <td>NaN</td>\n",
       "      <td>NaN</td>\n",
       "      <td>Futuregeek</td>\n",
       "      <td>4/15/13 9:14</td>\n",
       "      <td>NaN</td>\n",
       "    </tr>\n",
       "    <tr>\n",
       "      <th>3</th>\n",
       "      <td>2675420</td>\n",
       "      <td>NaN</td>\n",
       "      <td>I have a war file with the below structure.\\r\\...</td>\n",
       "      <td>added missing characters</td>\n",
       "      <td>NaN</td>\n",
       "      <td>1</td>\n",
       "      <td>8/18/16 13:06</td>\n",
       "      <td>Issue while reading a file from WAR file</td>\n",
       "      <td>&lt;java&gt;</td>\n",
       "      <td>1211</td>\n",
       "      <td>8/15/12 19:52</td>\n",
       "      <td>110</td>\n",
       "      <td>27</td>\n",
       "      <td>4</td>\n",
       "      <td>NaN</td>\n",
       "      <td>NaN</td>\n",
       "      <td>NaN</td>\n",
       "      <td>Ömer Erden</td>\n",
       "      <td>8/18/16 13:06</td>\n",
       "      <td>NaN</td>\n",
       "    </tr>\n",
       "    <tr>\n",
       "      <th>4</th>\n",
       "      <td>817177</td>\n",
       "      <td>NaN</td>\n",
       "      <td>My code has generated the search string `veri_...</td>\n",
       "      <td>Fixed formatting and broken English</td>\n",
       "      <td>NaN</td>\n",
       "      <td>1</td>\n",
       "      <td>7/22/13 20:14</td>\n",
       "      <td>How to break this while loop in apache poi get...</td>\n",
       "      <td>&lt;java&gt;&lt;while-loop&gt;&lt;apache-poi&gt;</td>\n",
       "      <td>3292</td>\n",
       "      <td>6/18/12 17:57</td>\n",
       "      <td>1012</td>\n",
       "      <td>5738</td>\n",
       "      <td>248</td>\n",
       "      <td>NaN</td>\n",
       "      <td>4444</td>\n",
       "      <td>&lt;p&gt;&lt;a href=\"http://stackoverflow.com/users/146...</td>\n",
       "      <td>4444</td>\n",
       "      <td>7/22/13 18:31</td>\n",
       "      <td>NaN</td>\n",
       "    </tr>\n",
       "  </tbody>\n",
       "</table>\n",
       "</div>"
      ],
      "text/plain": [
       "        Id                                              Title  \\\n",
       "0   666146                                                NaN   \n",
       "1  2752683  \"internal_metadta error\" when using Blockchain...   \n",
       "2   675850                                                NaN   \n",
       "3  2675420                                                NaN   \n",
       "4   817177                                                NaN   \n",
       "\n",
       "                                                Text  \\\n",
       "0  How can I display an image or text whenever I ...   \n",
       "1  We are using Blockchain as a service on a Blue...   \n",
       "2  I working on a `GIS` application which uses `P...   \n",
       "3  I have a war file with the below structure.\\r\\...   \n",
       "4  My code has generated the search string `veri_...   \n",
       "\n",
       "                                            Comment Tags  PostTypeId  \\\n",
       "0                           Grammar, condensed text  NaN           1   \n",
       "1  I made some minor edits to grammar and spelling.  NaN           1   \n",
       "2                             Formatting some texts  NaN           1   \n",
       "3                          added missing characters  NaN           1   \n",
       "4               Fixed formatting and broken English  NaN           1   \n",
       "\n",
       "    LastEditDate                                            Title.1  \\\n",
       "0   4/8/13 13:39                            CSS tricky hover effect   \n",
       "1  5/23/17 10:27  \"internal_metadta error\" when using Blockchain...   \n",
       "2  4/15/13 12:05  How to set InsertCommand parameter as function...   \n",
       "3  8/18/16 13:06           Issue while reading a file from WAR file   \n",
       "4  7/22/13 20:14  How to break this while loop in apache poi get...   \n",
       "\n",
       "                                            Tags.1  Reputation   CreationDate  \\\n",
       "0                                <javascript><css>        8374  8/17/11 17:20   \n",
       "1             <ibm-cloud><blockchain><hyperledger>        1709  1/15/14 15:53   \n",
       "2  <c#><postgresql><ado.net><postgis><dataadapter>         748  5/16/12 10:48   \n",
       "3                                           <java>        1211  8/15/12 19:52   \n",
       "4                   <java><while-loop><apache-poi>        3292  6/18/12 17:57   \n",
       "\n",
       "   Views  UpVotes  DownVotes                WebsiteUrl  \\\n",
       "0   2662     2491        855  http://chrisforrence.com   \n",
       "1    533       52         19                       NaN   \n",
       "2    233      377         55                       NaN   \n",
       "3    110       27          4                       NaN   \n",
       "4   1012     5738        248                       NaN   \n",
       "\n",
       "                     Location  \\\n",
       "0  Atlanta, GA, United States   \n",
       "1                  Austin, TX   \n",
       "2                         NaN   \n",
       "3                         NaN   \n",
       "4                        4444   \n",
       "\n",
       "                                             AboutMe  \\\n",
       "0  <h2>Howdy!</h2>\\n\\n<p>I'm a software engineer ...   \n",
       "1  <p>I am a Knowledge Manager for IBM Cloud plat...   \n",
       "2                                                NaN   \n",
       "3                                                NaN   \n",
       "4  <p><a href=\"http://stackoverflow.com/users/146...   \n",
       "\n",
       "                DisplayName   ApprovalDate  RejectionDate  \n",
       "0            Chris Forrence   4/8/13 13:39            NaN  \n",
       "1  William 'Bill' Wentworth  10/3/16 21:40            NaN  \n",
       "2                Futuregeek   4/15/13 9:14            NaN  \n",
       "3                Ömer Erden  8/18/16 13:06            NaN  \n",
       "4                      4444  7/22/13 18:31            NaN  "
      ]
     },
     "execution_count": 70,
     "metadata": {},
     "output_type": "execute_result"
    }
   ],
   "source": [
    "df.head()"
   ]
  },
  {
   "cell_type": "markdown",
   "metadata": {},
   "source": [
    "## 3)Data Preparation"
   ]
  },
  {
   "cell_type": "markdown",
   "metadata": {},
   "source": [
    "### - Cleaning some features:"
   ]
  },
  {
   "cell_type": "code",
   "execution_count": 71,
   "metadata": {},
   "outputs": [],
   "source": [
    "##Comments' Features:\n",
    "\n",
    "#There are two types of posts that can be edited\n",
    "# I use 0 for Editing a question\n",
    "# I use 1 for editing an answer\n",
    "df.loc[df['PostTypeId'] == 1, 'PostTypeId'] = 0\n",
    "df.loc[df['PostTypeId'] == 2, 'PostTypeId'] = 1\n",
    "\n",
    "#Checks if the post was edited before\n",
    "df['LastEditDate']=df['LastEditDate'].fillna(0)\n",
    "df.loc[df['LastEditDate'] != 0, 'LastEditDate'] = 1\n",
    "\n",
    "#Comments Length\n",
    "df['CommentLength'] = df['Comment'].apply(len)\n",
    "\n",
    "#Check if the title of the post was edited\n",
    "df[\"TitleChange1\"] = df['Title'].fillna('False')\n",
    "df.loc[df['TitleChange1'] != 'False', 'TitleChange1'] = 'True'\n",
    "\n",
    "df.loc[df['Title'] == df['Title.1'], \"TitleChange2\"] = 'True'\n",
    "df.loc[df['Title'] != df['Title.1'], \"TitleChange2\"] = 'False'\n",
    "\n",
    "df.loc[df['TitleChange1'] == 'False', \"TitleChange1\"] = 0\n",
    "df.loc[df['TitleChange1'] == 'True', \"TitleChange1\"] = 1\n",
    "\n",
    "df.loc[df['TitleChange2'] == 'False', \"TitleChange2\"] = 0\n",
    "df.loc[df['TitleChange2'] == 'True', \"TitleChange2\"] = 1\n",
    "\n",
    "df['TitleChange'] = df['TitleChange1']^df['TitleChange2']\n",
    "\n",
    "# check for profanity in the comments and the editions\n",
    "df['CommentProfanity'] = df['Comment'].apply(lambda x: profanity.contains_profanity(x))\n",
    "df['Text']=df['Text'].fillna('0')\n",
    "df['TextProfanity'] = df['Text'].apply(lambda x: profanity.contains_profanity(x))"
   ]
  },
  {
   "cell_type": "code",
   "execution_count": 72,
   "metadata": {},
   "outputs": [],
   "source": [
    "##User's Features\n",
    "\n",
    "#The user has a WebstieURL\n",
    "df['WebsiteUrl']=df['WebsiteUrl'].fillna(0)\n",
    "df.loc[df['WebsiteUrl'] != 0, 'WebsiteUrl'] = 1\n",
    "\n",
    "#The user stated a Location\n",
    "df['WebsiteUrl']=df['WebsiteUrl'].fillna(0)\n",
    "df.loc[df['Location'] != 0, 'Location'] = 1\n",
    "\n",
    "#the user wrote an AboutMe\n",
    "df['AboutMe']=df['AboutMe'].fillna(0)\n",
    "df.loc[df['AboutMe'] != 0, 'AboutMe'] = 1"
   ]
  },
  {
   "cell_type": "code",
   "execution_count": 84,
   "metadata": {},
   "outputs": [],
   "source": [
    "## Output\n",
    "#output 0 notApprove, 1 approve\n",
    "df['Y'] = df['ApprovalDate'].fillna(0)\n",
    "df.loc[df['Y'] != 0, 'Y'] = 1"
   ]
  },
  {
   "cell_type": "code",
   "execution_count": null,
   "metadata": {},
   "outputs": [],
   "source": []
  },
  {
   "cell_type": "markdown",
   "metadata": {},
   "source": [
    "### - Organizing the data in a new dataframe"
   ]
  },
  {
   "cell_type": "code",
   "execution_count": 74,
   "metadata": {},
   "outputs": [],
   "source": [
    "data = pd.DataFrame()"
   ]
  },
  {
   "cell_type": "code",
   "execution_count": 75,
   "metadata": {},
   "outputs": [],
   "source": [
    "##Comments' Features:\n",
    "#Qestion 0, answer 1\n",
    "data['PostType']= df['PostTypeId']\n",
    "# Not Edited before 0, Edited before 1\n",
    "data['Edited']= df['LastEditDate']\n",
    "#length of comment\n",
    "data['LenComment']= df['CommentLength']\n",
    "#Title Change\n",
    "data['TitleChange'] = 'Nan'\n",
    "data.loc[df['TitleChange'] == True, 'TitleChange'] = 1\n",
    "data.loc[df['TitleChange'] == False, 'TitleChange'] = 0\n",
    "#CommentProfanity\n",
    "data['ComProf'] = 'Nan'\n",
    "data.loc[df['CommentProfanity'] == True, 'ComProf'] = 1\n",
    "data.loc[df['CommentProfanity'] == False, 'ComProf'] = 0\n",
    "#TextProfanity\n",
    "data['TxtProf'] = 'Nan'\n",
    "data.loc[df['TextProfanity'] == True, 'TxtProf'] = 1\n",
    "data.loc[df['TextProfanity'] == False, 'TxtProf'] = 0"
   ]
  },
  {
   "cell_type": "code",
   "execution_count": 76,
   "metadata": {},
   "outputs": [],
   "source": [
    "##User's Features\n",
    "\n",
    "#Total Reputation\n",
    "data['Reputation']= df['Reputation']\n",
    "#totalUpvotes\n",
    "data['UpVotes']= df['UpVotes']\n",
    "#totalDownVotes\n",
    "data['DownVotes']= df['DownVotes']\n",
    "#Completion of profile 0 nothing 3 all complete\n",
    "data['ProfileCompletion'] = df['Location'] + df['AboutMe'] + df['WebsiteUrl']"
   ]
  },
  {
   "cell_type": "code",
   "execution_count": 77,
   "metadata": {},
   "outputs": [],
   "source": [
    "#output\n",
    "data['Output'] = df['Y']"
   ]
  },
  {
   "cell_type": "code",
   "execution_count": 78,
   "metadata": {},
   "outputs": [
    {
     "data": {
      "text/plain": [
       "(800, 11)"
      ]
     },
     "execution_count": 78,
     "metadata": {},
     "output_type": "execute_result"
    }
   ],
   "source": [
    "data.shape"
   ]
  },
  {
   "cell_type": "code",
   "execution_count": 79,
   "metadata": {},
   "outputs": [
    {
     "data": {
      "text/html": [
       "<div>\n",
       "<style>\n",
       "    .dataframe thead tr:only-child th {\n",
       "        text-align: right;\n",
       "    }\n",
       "\n",
       "    .dataframe thead th {\n",
       "        text-align: left;\n",
       "    }\n",
       "\n",
       "    .dataframe tbody tr th {\n",
       "        vertical-align: top;\n",
       "    }\n",
       "</style>\n",
       "<table border=\"1\" class=\"dataframe\">\n",
       "  <thead>\n",
       "    <tr style=\"text-align: right;\">\n",
       "      <th></th>\n",
       "      <th>PostType</th>\n",
       "      <th>Edited</th>\n",
       "      <th>LenComment</th>\n",
       "      <th>TitleChange</th>\n",
       "      <th>ComProf</th>\n",
       "      <th>TxtProf</th>\n",
       "      <th>Reputation</th>\n",
       "      <th>UpVotes</th>\n",
       "      <th>DownVotes</th>\n",
       "      <th>ProfileCompletion</th>\n",
       "      <th>Output</th>\n",
       "    </tr>\n",
       "  </thead>\n",
       "  <tbody>\n",
       "    <tr>\n",
       "      <th>0</th>\n",
       "      <td>0</td>\n",
       "      <td>1</td>\n",
       "      <td>23</td>\n",
       "      <td>0</td>\n",
       "      <td>0</td>\n",
       "      <td>0</td>\n",
       "      <td>8374</td>\n",
       "      <td>2491</td>\n",
       "      <td>855</td>\n",
       "      <td>3</td>\n",
       "      <td>1</td>\n",
       "    </tr>\n",
       "    <tr>\n",
       "      <th>1</th>\n",
       "      <td>0</td>\n",
       "      <td>1</td>\n",
       "      <td>48</td>\n",
       "      <td>0</td>\n",
       "      <td>0</td>\n",
       "      <td>0</td>\n",
       "      <td>1709</td>\n",
       "      <td>52</td>\n",
       "      <td>19</td>\n",
       "      <td>2</td>\n",
       "      <td>1</td>\n",
       "    </tr>\n",
       "    <tr>\n",
       "      <th>2</th>\n",
       "      <td>0</td>\n",
       "      <td>1</td>\n",
       "      <td>21</td>\n",
       "      <td>0</td>\n",
       "      <td>0</td>\n",
       "      <td>0</td>\n",
       "      <td>748</td>\n",
       "      <td>377</td>\n",
       "      <td>55</td>\n",
       "      <td>1</td>\n",
       "      <td>1</td>\n",
       "    </tr>\n",
       "    <tr>\n",
       "      <th>3</th>\n",
       "      <td>0</td>\n",
       "      <td>1</td>\n",
       "      <td>24</td>\n",
       "      <td>0</td>\n",
       "      <td>0</td>\n",
       "      <td>0</td>\n",
       "      <td>1211</td>\n",
       "      <td>27</td>\n",
       "      <td>4</td>\n",
       "      <td>1</td>\n",
       "      <td>1</td>\n",
       "    </tr>\n",
       "    <tr>\n",
       "      <th>4</th>\n",
       "      <td>0</td>\n",
       "      <td>1</td>\n",
       "      <td>35</td>\n",
       "      <td>0</td>\n",
       "      <td>0</td>\n",
       "      <td>0</td>\n",
       "      <td>3292</td>\n",
       "      <td>5738</td>\n",
       "      <td>248</td>\n",
       "      <td>2</td>\n",
       "      <td>1</td>\n",
       "    </tr>\n",
       "  </tbody>\n",
       "</table>\n",
       "</div>"
      ],
      "text/plain": [
       "   PostType Edited  LenComment TitleChange ComProf TxtProf  Reputation  \\\n",
       "0         0      1          23           0       0       0        8374   \n",
       "1         0      1          48           0       0       0        1709   \n",
       "2         0      1          21           0       0       0         748   \n",
       "3         0      1          24           0       0       0        1211   \n",
       "4         0      1          35           0       0       0        3292   \n",
       "\n",
       "   UpVotes  DownVotes ProfileCompletion Output  \n",
       "0     2491        855                 3      1  \n",
       "1       52         19                 2      1  \n",
       "2      377         55                 1      1  \n",
       "3       27          4                 1      1  \n",
       "4     5738        248                 2      1  "
      ]
     },
     "execution_count": 79,
     "metadata": {},
     "output_type": "execute_result"
    }
   ],
   "source": [
    "data.head()"
   ]
  },
  {
   "cell_type": "markdown",
   "metadata": {},
   "source": [
    "## 4)  Make a test/train split of the data"
   ]
  },
  {
   "cell_type": "code",
   "execution_count": 80,
   "metadata": {},
   "outputs": [],
   "source": [
    "X = data.drop('Output',axis=1)\n",
    "Y = data['Output']"
   ]
  },
  {
   "cell_type": "code",
   "execution_count": 81,
   "metadata": {},
   "outputs": [],
   "source": [
    "seed = 7\n",
    "X_train, X_test, Y_train, Y_test = train_test_split(X, Y,test_size=0.30, random_state=seed)\n",
    "Y_train=Y_train.astype('int')\n",
    "Y_test=Y_test.astype('int')"
   ]
  },
  {
   "cell_type": "markdown",
   "metadata": {},
   "source": [
    "## 5) Normalise data"
   ]
  },
  {
   "cell_type": "code",
   "execution_count": 82,
   "metadata": {},
   "outputs": [],
   "source": [
    "scaler = StandardScaler()\n",
    "scaler.fit(X_train)\n",
    "X_train = scaler.transform(X_train)\n",
    "X_test = scaler.transform(X_test)"
   ]
  },
  {
   "cell_type": "markdown",
   "metadata": {},
   "source": [
    "## 6) Testing many ML algorithms"
   ]
  },
  {
   "cell_type": "code",
   "execution_count": 83,
   "metadata": {},
   "outputs": [
    {
     "name": "stdout",
     "output_type": "stream",
     "text": [
      "accuracy score\n",
      "LR: 0.705000 \n",
      "LDA: 0.694333 \n",
      "KNN: 0.645667 \n",
      "CART: 0.587333 \n",
      "NB: 0.646667 \n",
      "SVM: 0.693667 \n",
      "MLP: 0.694333 \n"
     ]
    }
   ],
   "source": [
    "# Spot Check Algorithms\n",
    "scoring = 'accuracy'\n",
    "models = []\n",
    "models.append(('LR', LogisticRegression()))\n",
    "models.append(('LDA', LinearDiscriminantAnalysis()))\n",
    "models.append(('KNN', KNeighborsClassifier()))\n",
    "models.append(('CART', DecisionTreeClassifier()))\n",
    "models.append(('NB', GaussianNB()))\n",
    "models.append(('SVM', SVC()))\n",
    "models.append(('MLP',MLPClassifier(alpha=10,hidden_layer_sizes=(40,40,40),max_iter=1000)))            \n",
    "# evaluate each model in turn\n",
    "results = []\n",
    "names = []\n",
    "print('accuracy score')\n",
    "for name, model in models:\n",
    "    kfold = model_selection.KFold(n_splits=100, random_state=seed)\n",
    "    cv_results = model_selection.cross_val_score(model, X_train, Y_train, cv=kfold, scoring=scoring)\n",
    "    results.append(cv_results)\n",
    "    names.append(name)\n",
    "    msg = \"%s: %f \" % (name, cv_results.mean())\n",
    "    print(msg)"
   ]
  },
  {
   "cell_type": "code",
   "execution_count": null,
   "metadata": {},
   "outputs": [],
   "source": []
  },
  {
   "cell_type": "code",
   "execution_count": null,
   "metadata": {},
   "outputs": [],
   "source": []
  },
  {
   "cell_type": "code",
   "execution_count": null,
   "metadata": {},
   "outputs": [],
   "source": []
  },
  {
   "cell_type": "code",
   "execution_count": null,
   "metadata": {},
   "outputs": [],
   "source": []
  },
  {
   "cell_type": "code",
   "execution_count": null,
   "metadata": {},
   "outputs": [],
   "source": []
  },
  {
   "cell_type": "code",
   "execution_count": null,
   "metadata": {},
   "outputs": [],
   "source": []
  }
 ],
 "metadata": {
  "kernelspec": {
   "display_name": "Python 3",
   "language": "python",
   "name": "python3"
  },
  "language_info": {
   "codemirror_mode": {
    "name": "ipython",
    "version": 3
   },
   "file_extension": ".py",
   "mimetype": "text/x-python",
   "name": "python",
   "nbconvert_exporter": "python",
   "pygments_lexer": "ipython3",
   "version": "3.6.3"
  }
 },
 "nbformat": 4,
 "nbformat_minor": 2
}
